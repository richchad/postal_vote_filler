{
 "cells": [
  {
   "cell_type": "code",
   "execution_count": 1,
   "metadata": {},
   "outputs": [],
   "source": [
    "import smtplib, ssl\n",
    "from email import encoders\n",
    "from email.mime.base import MIMEBase\n",
    "from email.mime.multipart import MIMEMultipart\n",
    "from email.mime.text import MIMEText"
   ]
  },
  {
   "cell_type": "code",
   "execution_count": 25,
   "metadata": {},
   "outputs": [],
   "source": [
    "smtp_server = \"smtp.gmail.com\"\n",
    "port = 587  # For start tls\n",
    "sender_email = \"?????????????\"  #insert yours\n",
    "password = \"??????????????\"     #### requires onefactor authentication and low security settings\n",
    "receiver_email = \"???????????\"  #####\n",
    "subject = \"Postal vote application form\"\n",
    "body = \"This is an email with attachment sent from Python\"\n",
    "\n",
    "# Create a multipart message and set headers\n",
    "message = MIMEMultipart()\n",
    "message[\"From\"] = sender_email\n",
    "message[\"To\"] = receiver_email\n",
    "message[\"Subject\"] = subject\n",
    "message[\"Bcc\"] = receiver_email  # Recommended for mass emails\n",
    "\n",
    "message.attach(MIMEText(body, \"plain\"))\n",
    "\n",
    "filename = \"postal_vote_application_form.jpg\"  # In same directory as script\n",
    "\n",
    "# Open PDF file in binary mode\n",
    "with open(filename, \"rb\") as attachment:\n",
    "    # Add file as application/octet-stream\n",
    "    # Email client can usually download this automatically as attachment\n",
    "    part = MIMEBase(\"application\", \"octet-stream\")\n",
    "    part.set_payload(attachment.read())\n",
    "\n",
    "# Encode file in ASCII characters to send by email    \n",
    "encoders.encode_base64(part)\n",
    "\n",
    "# Add header as key/value pair to attachment part\n",
    "part.add_header(\n",
    "    \"Content-Disposition\",\n",
    "    f\"attachment; filename= {filename}\",\n",
    ")\n",
    "\n",
    "# Add attachment to message and convert message to string\n",
    "message.attach(part)\n",
    "text = message.as_string()\n",
    "\n",
    "# Create a secure SSL context\n",
    "context = ssl.create_default_context()\n",
    "\n",
    "# Try to log in to server and send email\n",
    "try:\n",
    "    server = smtplib.SMTP(smtp_server,port)\n",
    "    server.ehlo() # Can be omitted\n",
    "    server.starttls(context=context) # Secure the connection\n",
    "    server.ehlo() # Can be omitted\n",
    "    server.login(sender_email, password)\n",
    "    # TODO: Send email here\n",
    "    server.sendmail(sender_email, receiver_email, text)\n",
    "except Exception as e:\n",
    "    # Print any error messages to stdout\n",
    "    print(e)\n",
    "finally:\n",
    "    server.quit()"
   ]
  }
 ],
 "metadata": {
  "kernelspec": {
   "display_name": "Python 3",
   "language": "python",
   "name": "python3"
  },
  "language_info": {
   "codemirror_mode": {
    "name": "ipython",
    "version": 3
   },
   "file_extension": ".py",
   "mimetype": "text/x-python",
   "name": "python",
   "nbconvert_exporter": "python",
   "pygments_lexer": "ipython3",
   "version": "3.7.1"
  }
 },
 "nbformat": 4,
 "nbformat_minor": 2
}
